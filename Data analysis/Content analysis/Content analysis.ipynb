{
 "cells": [
  {
   "cell_type": "markdown",
   "id": "96d648ad",
   "metadata": {},
   "source": [
    "# Keyword extraction"
   ]
  },
  {
   "cell_type": "code",
   "execution_count": 2,
   "id": "1673bac7",
   "metadata": {},
   "outputs": [
    {
     "name": "stdout",
     "output_type": "stream",
     "text": [
      "hello\n"
     ]
    }
   ],
   "source": [
    "# Import essential libraries\n",
    "import pandas as pd\n",
    "from wordcloud import WordCloud, STOPWORDS\n",
    "from nltk.stem import WordNetLemmatizer\n",
    "import yake\n",
    "\n",
    "def yake_extractor(data_list, lemmatizer, stopwords, language = \"en\", max_ngram_size = 3, deduplication_thresold = 0.9, \n",
    "    deduplication_algo = 'seqm', windowSize = 1, numOfKeywords =40):\n",
    "    # preprocess data\n",
    "    lem_data = [lemmatizer.lemmatize(data) for data in data_list]\n",
    "    text = []\n",
    "    for data in lem_data:\n",
    "        text.append(' '.join([w for w in data.split() if w not in stopwords else w]))\n",
    "    text = ' '.join(text)\n",
    "    # extract keywords\n",
    "    custom_kw_extractor = yake.KeywordExtractor(lan=language, n=max_ngram_size,  dedupLim=deduplication_thresold,\n",
    "                            dedupFunc=deduplication_algo, windowsSize=windowSize, top=numOfKeywords, features=None)\n",
    "    keywords = custom_kw_extractor.extract_keywords(text)\n",
    "    return keywords\n",
    "\n",
    "if __name__ == '__main__':\n",
    "    stopwords = set(STOPWORDS)\n",
    "    lemmatizer = WordNetLemmatizer()\n",
    "    data_path = 'r/....'\n",
    "    out_path = ''\n",
    "    with open(data_path, 'r') as f:\n",
    "        data = pd.read_csv(f)\n",
    "    print(data.columns)\n",
    "    join_fn = lambda x : ' '.join([x.title, x.abstract])\n",
    "    join_text = data.apply(join_fn, axis=1)\n",
    "    keywords = yake_extractor(data_list = join_text.tolist(), lemmatize = lemmatizer, stopwords = stopwords)\n",
    "    f = open(out_path, 'w+')\n",
    "    f.writelines(keywords)    \n"
   ]
  },
  {
   "cell_type": "markdown",
   "id": "4e22296d",
   "metadata": {},
   "source": [
    "# Topic modeling"
   ]
  },
  {
   "cell_type": "code",
   "execution_count": 1,
   "id": "8874f8ce",
   "metadata": {},
   "outputs": [
    {
     "name": "stdout",
     "output_type": "stream",
     "text": [
      "python\n"
     ]
    }
   ],
   "source": [
    "print('python')"
   ]
  },
  {
   "cell_type": "markdown",
   "id": "42b141cd",
   "metadata": {},
   "source": [
    "# Topic evolution"
   ]
  }
 ],
 "metadata": {
  "kernelspec": {
   "display_name": "Python 3.9.5 64-bit",
   "language": "python",
   "name": "python3"
  },
  "language_info": {
   "codemirror_mode": {
    "name": "ipython",
    "version": 3
   },
   "file_extension": ".py",
   "mimetype": "text/x-python",
   "name": "python",
   "nbconvert_exporter": "python",
   "pygments_lexer": "ipython3",
   "version": "3.9.5"
  },
  "vscode": {
   "interpreter": {
    "hash": "8d4cba2ae61a39d68257780e27410016930e3c324efbfd93f47cfea3c0268168"
   }
  }
 },
 "nbformat": 4,
 "nbformat_minor": 5
}
